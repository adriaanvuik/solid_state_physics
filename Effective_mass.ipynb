{
 "cells": [
  {
   "cell_type": "markdown",
   "metadata": {
    "slideshow": {
     "slide_type": "slide"
    }
   },
   "source": [
    "# Band structure and effective mass\n",
    "(available at http:tiny.cc/solidstatephys/Effective_mass.ipynb)\n",
    "\n",
    "## Last week\n",
    "a chain of atoms with one orbital per atom has a tight-binding Hamiltonian\n",
    "$$H = h_0 + h_1 e^{ika} + h_1 e^{-ika}$$\n",
    "**Test question**: how does this Hamiltonian look if we choose a unit cell with two atoms in it?\n",
    "\n",
    "## This week\n",
    "* Motion of electrons in electric field\n",
    "* Effective mass\n",
    "\n",
    "Reminder: I use $\\hbar = 1$, so that $p = k$."
   ]
  },
  {
   "cell_type": "markdown",
   "metadata": {
    "slideshow": {
     "slide_type": "slide"
    }
   },
   "source": [
    "# Problem formulation\n",
    "\n",
    "![](figures/field.svg)\n",
    "\n",
    "* Periodic atomic potential + electric field $V = V_0(x) + eEx$\n",
    "* Electron energies belong to only a single band, kinetic energy $H = -2 h_1 \\cos(ka)$ *(or any other $E(k)$)*\n",
    "* Works when $E$ is small, $eEa \\ll t$\n",
    "\n",
    "Question: how do electrons move?"
   ]
  },
  {
   "cell_type": "markdown",
   "metadata": {
    "slideshow": {
     "slide_type": "slide"
    }
   },
   "source": [
    "# Begin with velocity\n",
    "\n",
    "Electron velocity is\n",
    "$$ v = \\frac{d E(k)}{d k} $$\n",
    "several ways to understand:\n",
    "* Electrons are waves, this is wave [group velocity](https://en.wikipedia.org/wiki/Group_velocity)\n",
    "* [Hamiltonian mechanics](https://en.wikipedia.org/wiki/Hamiltonian_mechanics)\n",
    "  $$ \\frac{dx}{dt} = \\frac{\\partial H}{\\partial p} $$\n",
    "\n",
    "For the simplest example\n",
    "$$ v = 2h_1a\\sin(ka) $$"
   ]
  },
  {
   "cell_type": "markdown",
   "metadata": {
    "slideshow": {
     "slide_type": "slide"
    }
   },
   "source": [
    "# Effect of the force\n",
    "\n",
    "Conservation of energy after moving by $\\delta x$ after $\\delta t$:\n",
    "$$ \\delta E(k) = -e E \\delta x $$\n",
    "\n",
    "$$ \\frac{d E(k)}{d k}\\delta k = -e E \\delta x $$\n",
    "\n",
    "$$ v\\frac{\\delta k}{\\delta t} = -e E \\frac{\\delta x}{\\delta t} $$\n",
    "\n",
    "$$ \\frac{d k}{d t} = -eE = F$$\n",
    "\n",
    "Once again, this is just Hamiltonian mechanics!"
   ]
  },
  {
   "cell_type": "markdown",
   "metadata": {
    "slideshow": {
     "slide_type": "slide"
    }
   },
   "source": [
    "# Bloch oscillations\n",
    "\n",
    "Let's solve equations of motion:\n",
    "$$k = F t$$\n",
    "$$v = 2 h_1 a \\sin(Fta)$$\n",
    "$$x = 2 \\frac{h_1}{F}\\cos(Fta)$$\n",
    "\n",
    "$\\Rightarrow$ motion of electrons is [periodic](https://en.wikipedia.org/wiki/Bloch_oscillations)! \n",
    "\n",
    "![](figures/bloch.svg)\n",
    "\n",
    "Very hard to observe, requires the relaxation time $\\tau \\gg (Fa)^{-1}$."
   ]
  },
  {
   "cell_type": "markdown",
   "metadata": {
    "slideshow": {
     "slide_type": "slide"
    }
   },
   "source": [
    "# Acceleration\n",
    "\n",
    "$$ a = \\frac{dv}{dt} $$\n",
    "\n",
    "using $v = d E(k)/d k$ we get\n",
    "\n",
    "$$ a = \\frac{d^2 E}{dk^2} \\frac{dk}{dt} = \\frac{d^2 E}{dk^2} F $$\n",
    "\n",
    "Now compare with the Newton's law $a = F/m$.\n",
    "\n",
    "$\\Rightarrow$ we introduce **effective mass** \n",
    "$$m_{\\text{eff}} =  \\left(\\frac{d^2 E}{dk^2}\\right)^{-1}$$\n",
    "Electrons behave like their mass is momentum-dependent."
   ]
  },
  {
   "cell_type": "markdown",
   "metadata": {
    "slideshow": {
     "slide_type": "slide"
    }
   },
   "source": [
    "# Effective mass properties\n",
    "\n",
    "For the single band model:\n",
    "$$ m_{\\text{eff}} = [2 h_1 a^2 \\cos(ka)]^{-1}$$\n",
    "\n",
    "![](figures/m_eff.svg)\n",
    "\n",
    "* When $k\\ll a^{-1}$: $m_{\\text{eff}} = 1/2h_1a^2$, almost constant\n",
    "* When $|k| > \\pi/2$: $m_{\\text{eff}} < 0$, these are **holes** (topic of next lecture), they accelerate opposite to the force applied.\n",
    "* In real materials $m_{\\text{eff}}$ varies from $\\sim 1000 m_e$ to $\\sim 0.01 m_e$."
   ]
  },
  {
   "cell_type": "markdown",
   "metadata": {
    "slideshow": {
     "slide_type": "slide"
    }
   },
   "source": [
    "# Conclusions\n",
    "\n",
    "* Electric field increases momentum at a constant rate\n",
    "* Acceleration is controlled by effective mass\n",
    "* Half of a band is **holes** that have negative mass."
   ]
  }
 ],
 "metadata": {
  "celltoolbar": "Slideshow",
  "kernelspec": {
   "display_name": "Python 3",
   "language": "python",
   "name": "python3"
  },
  "language_info": {
   "codemirror_mode": {
    "name": "ipython",
    "version": 3
   },
   "file_extension": ".py",
   "mimetype": "text/x-python",
   "name": "python",
   "nbconvert_exporter": "python",
   "pygments_lexer": "ipython3",
   "version": "3.4.3+"
  }
 },
 "nbformat": 4,
 "nbformat_minor": 0
}
