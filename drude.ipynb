{
 "cells": [
  {
   "cell_type": "markdown",
   "metadata": {
    "nbpresent": {
     "id": "1a745ba6-5e68-4ad1-b6a8-38c95d3a080c"
    },
    "slideshow": {
     "slide_type": "slide"
    }
   },
   "source": [
    "# Electrical properties of electrons\n",
    "hi again!\n",
    "\n",
    "This lecture:\n",
    "* Drude model and why it works\n",
    "* Electrical conductivity\n",
    "* Hall effect\n",
    "\n",
    "Edit these notes online at http://tiny.cc/solidstatephys/drude.ipynb  \n",
    "(or download from http://tiny.cc/solidstate_src/drude.ipynb)"
   ]
  },
  {
   "cell_type": "markdown",
   "metadata": {
    "slideshow": {
     "slide_type": "slide"
    }
   },
   "source": [
    "# Electrons in fields\n",
    "\n",
    "* Start with Lorentz force:\n",
    "  $$ \\frac{d\\mathbf{p}}{dt} = e\\left(\\mathbf{E} + \\frac{1}{m}\\mathbf{p}\\times \\mathbf{B}\\right) $$\n",
    "  **Attention**: $e < 0$!"
   ]
  },
  {
   "cell_type": "markdown",
   "metadata": {
    "slideshow": {
     "slide_type": "fragment"
    }
   },
   "source": [
    "* $\\mathbf{B} = 0\\quad \\Rightarrow\\quad \\mathbf{p} = e \\mathbf{E} t,$ electrons accelerate forever!"
   ]
  },
  {
   "cell_type": "markdown",
   "metadata": {
    "slideshow": {
     "slide_type": "fragment"
    }
   },
   "source": [
    "* Electrons collide with impurities, lattice vibrations (phonons)  \n",
    "  $\\Rightarrow$ scattering makes $\\mathbf{p}$ random."
   ]
  },
  {
   "cell_type": "markdown",
   "metadata": {
    "nbpresent": {
     "id": "b8928c20-20fa-4776-b2c4-c45342ce0f14"
    },
    "slideshow": {
     "slide_type": "fragment"
    }
   },
   "source": [
    "* Simplest model for scattering:  \n",
    "  $$\\frac{d \\mathbf{p}}{dt} = - \\frac{\\mathbf{p}}{\\tau}$$\n",
    "  $\\tau$ average time between scattering events."
   ]
  },
  {
   "cell_type": "markdown",
   "metadata": {
    "nbpresent": {
     "id": "934aa51c-31a0-4aa6-a9ca-5af7fe96a948"
    },
    "slideshow": {
     "slide_type": "subslide"
    }
   },
   "source": [
    "# Collision rates\n",
    "\n",
    "$\\tau^{-1}$ is rate of collisions; additive from phonons and crystal disorder:\n",
    "\n",
    "![](figures/rates.svg)"
   ]
  },
  {
   "cell_type": "markdown",
   "metadata": {
    "nbpresent": {
     "id": "c53b0a02-ce4f-4588-8840-b4f831e79d54"
    },
    "slideshow": {
     "slide_type": "subslide"
    }
   },
   "source": [
    "# [Drude Model](https://en.wikipedia.org/wiki/Drude_model):\n",
    "\n",
    "> Electrons are moved by electric and magnetic fields, \n",
    "> and slowed by friction  \n",
    "> – Paul Drude 1900, Hendrik Lorentz 1905 (quotation approximate)\n",
    "\n",
    "$$ \\frac{d\\mathbf{p}}{dt} = e\\left(\\mathbf{E} + \\frac{1}{m}\\mathbf{p}\\times \\mathbf{B}\\right)-\\frac{\\mathbf{p}}{\\tau} $$\n",
    "\n",
    "No interactions, 25 years before the Pauli exclusion principle!"
   ]
  },
  {
   "cell_type": "markdown",
   "metadata": {
    "nbpresent": {
     "id": "8fbc3c99-e758-42b0-94e2-393d586619cf"
    },
    "slideshow": {
     "slide_type": "subslide"
    }
   },
   "source": [
    "# Charge mobility:\n",
    "\n",
    "In steady state:\n",
    "$$\\mathbf{p} = \\text{const};\\quad 0 = e\\mathbf{E} - m\\mathbf{v}/\\tau\\Rightarrow \\mathbf{v} = \\frac{e \\tau}{m}\\mathbf{E}$$\n",
    "\n",
    "Mobility $\\mu = e\\tau / m$ [cm$^2$/Vs], varies from $\\sim 1$ to $\\sim 10^8$."
   ]
  },
  {
   "cell_type": "markdown",
   "metadata": {
    "nbpresent": {
     "id": "c134ea81-3daa-4a91-8b09-a938db828117"
    },
    "slideshow": {
     "slide_type": "subslide"
    }
   },
   "source": [
    "# Electric conductivity\n",
    "\n",
    "Current density $\\mathbf{j} = n e \\mathbf{v}$ ($n$ is electron density)\n",
    "$$\\mathbf{j} = e n \\mu \\mathbf{E},$$\n",
    "so electric conductivity $\\sigma = ne\\mu = e^2 n\\tau/m$.\n",
    "\n",
    "Sanity check: $j = \\frac{I}{A};\\quad E = \\frac{V}{L}; \\quad I = \\frac{A}{L}\\sigma V$ — this is just Ohm's law!"
   ]
  },
  {
   "cell_type": "markdown",
   "metadata": {
    "nbpresent": {
     "id": "2c877278-4eba-4b74-9dde-6e9227a131e8"
    },
    "slideshow": {
     "slide_type": "slide"
    }
   },
   "source": [
    "# [Hall effect](https://en.wikipedia.org/wiki/Hall_effect)\n",
    "Switch to $\\mathbf{B} \\neq 0$ \n",
    "\n",
    "![](figures/hall_1.svg)"
   ]
  },
  {
   "cell_type": "markdown",
   "metadata": {
    "nbpresent": {
     "id": "aaac3be9-a562-44c1-8118-ba45bae8118d"
    },
    "slideshow": {
     "slide_type": "subslide"
    }
   },
   "source": [
    "# Determining $E$\n",
    "\n",
    "Force balance: $ 0 = e\\left(\\mathbf{E} + \\mathbf{v}\\times \\mathbf{B}\\right)-\\mathbf{p}/\\tau $\n",
    "\n",
    "![](figures/hall_2.svg)"
   ]
  },
  {
   "cell_type": "markdown",
   "metadata": {
    "nbpresent": {
     "id": "2c877278-4eba-4b74-9dde-6e9227a131e8"
    },
    "slideshow": {
     "slide_type": "subslide"
    }
   },
   "source": [
    "# Hall conductance\n",
    "\n",
    "$\\mathbf{E} = \\mathbf{p}/e\\tau -\\mathbf{v}\\times \\mathbf{B}$\n",
    "\n",
    "Two components of $\\mathbf{E}$:\n",
    "* $\\mathbf{E}_\\text{ext} \\parallel \\mathbf{j}$ same as with $\\mathbf{B} = 0$\n",
    "* Hall field: $\\mathbf{E}_\\text{H} = \\mathbf{j}\\times\\mathbf{B}/ne$ measures charge carrier concentration.\n",
    "\n",
    "Hall coefficient $(ne)^{-1}$ is sometimes positive  \n",
    "$\\Rightarrow$ particles with positive charge (or negative mass)!"
   ]
  },
  {
   "cell_type": "markdown",
   "metadata": {
    "nbpresent": {
     "id": "c617c070-a14c-42ea-841a-38e5d0f0c861"
    },
    "slideshow": {
     "slide_type": "slide"
    }
   },
   "source": [
    "# Limitations of the Drude-Lorentz model\n",
    "\n",
    "* Interactions between electrons are very strong:  \n",
    "  Addressed by Landau using [Fermi liquid theory](https://en.wikipedia.org/wiki/Fermi_liquid_theory)  \n",
    "  Result: can introduce **quasiparticles** that behave like non-interacting electrons!\n",
    "* What about Fermi sea?"
   ]
  },
  {
   "cell_type": "markdown",
   "metadata": {
    "nbpresent": {
     "id": "c3962ed4-4f67-418a-b1ea-a48d50903ebf"
    },
    "slideshow": {
     "slide_type": "slide"
    }
   },
   "source": [
    "# Fermi vs Drude\n",
    "\n",
    "Fermi velocity $v_\\text{F} = \\sqrt{2E_\\text{F} / m} \\sim 10^6 \\text{m/s}$  \n",
    "Drift velocity $v = \\mu E \\sim \\text{mm/s} \\ll v_F$ !\n",
    "\n",
    "Explanation: most Fermi sea is \"inert\", we only see effects of the Fermi surface:\n",
    "\n",
    "![](figures/fermi_drude.svg)"
   ]
  },
  {
   "cell_type": "markdown",
   "metadata": {
    "slideshow": {
     "slide_type": "slide"
    }
   },
   "source": [
    "# Conclusions\n",
    "\n",
    "* Drude-Lorentz model describes electric properties of conductors\n",
    "* New concepts: scattering rate/time, mobility, Hall coefficient\n",
    "* Works surprisingly well with interactions and Fermi statistics"
   ]
  }
 ],
 "metadata": {
  "kernelspec": {
   "display_name": "Python 3",
   "language": "python",
   "name": "python3"
  },
  "language_info": {
   "codemirror_mode": {
    "name": "ipython",
    "version": 3
   },
   "file_extension": ".py",
   "mimetype": "text/x-python",
   "name": "python",
   "nbconvert_exporter": "python",
   "pygments_lexer": "ipython3",
   "version": "3.4.3+"
  },
  "nbpresent": {
   "slides": {
    "0a3610e8-7748-43c8-a7f4-1f807ba637cc": {
     "id": "0a3610e8-7748-43c8-a7f4-1f807ba637cc",
     "prev": null,
     "regions": {
      "78086aaf-42ac-4f95-ab1f-6eea50cc6a7b": {
       "attrs": {
        "height": 0.8,
        "width": 0.8,
        "x": 0.1,
        "y": 0.1
       },
       "content": {
        "cell": "1a745ba6-5e68-4ad1-b6a8-38c95d3a080c",
        "part": "whole"
       },
       "id": "78086aaf-42ac-4f95-ab1f-6eea50cc6a7b"
      }
     }
    },
    "0ffc2667-1bd6-4356-9dd9-f9c4880d95ed": {
     "id": "0ffc2667-1bd6-4356-9dd9-f9c4880d95ed",
     "prev": "0a3610e8-7748-43c8-a7f4-1f807ba637cc",
     "regions": {
      "a4723020-f7d5-4e8d-9873-9b25757e353b": {
       "attrs": {
        "height": 0.8,
        "width": 0.8,
        "x": 0.1,
        "y": 0.1
       },
       "content": {
        "cell": "b8928c20-20fa-4776-b2c4-c45342ce0f14",
        "part": "whole"
       },
       "id": "a4723020-f7d5-4e8d-9873-9b25757e353b"
      }
     }
    },
    "490d68c9-ad1a-4492-8f16-069d6c3f8386": {
     "id": "490d68c9-ad1a-4492-8f16-069d6c3f8386",
     "prev": "52643f23-a322-40ad-8aa5-cb44df776f4c",
     "regions": {
      "16bcd58e-95be-4297-bb94-5a2e647ad07b": {
       "attrs": {
        "height": 0.8,
        "width": 0.8,
        "x": 0.1,
        "y": 0.1
       },
       "content": {
        "cell": "aaac3be9-a562-44c1-8118-ba45bae8118d",
        "part": "whole"
       },
       "id": "16bcd58e-95be-4297-bb94-5a2e647ad07b"
      }
     }
    },
    "52643f23-a322-40ad-8aa5-cb44df776f4c": {
     "id": "52643f23-a322-40ad-8aa5-cb44df776f4c",
     "prev": "de7caaa2-6d5b-473d-b7ad-7041f884ef74",
     "regions": {
      "c307cabf-55f2-4f19-bb0c-565444cf69b0": {
       "attrs": {
        "height": 0.8,
        "width": 0.8,
        "x": 0.1,
        "y": 0.1
       },
       "content": {
        "cell": "2c877278-4eba-4b74-9dde-6e9227a131e8",
        "part": "whole"
       },
       "id": "c307cabf-55f2-4f19-bb0c-565444cf69b0"
      }
     }
    },
    "5948bc85-48f2-4712-b491-3c5be4ed822f": {
     "id": "5948bc85-48f2-4712-b491-3c5be4ed822f",
     "prev": "490d68c9-ad1a-4492-8f16-069d6c3f8386",
     "regions": {
      "07c604e6-cace-4cc1-a5e1-149b8462cd85": {
       "attrs": {
        "height": 0.8,
        "width": 0.8,
        "x": 0.1,
        "y": 0.1
       },
       "content": {
        "cell": "2c877278-4eba-4b74-9dde-6e9227a131e8",
        "part": "whole"
       },
       "id": "07c604e6-cace-4cc1-a5e1-149b8462cd85"
      }
     }
    },
    "7a136d6f-6741-4562-8d2e-f76f63af09bc": {
     "id": "7a136d6f-6741-4562-8d2e-f76f63af09bc",
     "prev": "83842b77-13d1-46b6-a345-9d7ec84c2311",
     "regions": {
      "6f171f9f-34d1-4726-9cbf-2aeb0f50073c": {
       "attrs": {
        "height": 0.8,
        "width": 0.8,
        "x": 0.1,
        "y": 0.1
       },
       "content": {
        "cell": "c3962ed4-4f67-418a-b1ea-a48d50903ebf",
        "part": "whole"
       },
       "id": "6f171f9f-34d1-4726-9cbf-2aeb0f50073c"
      }
     }
    },
    "836cb591-18b5-4f1a-9eee-b70dd8384440": {
     "id": "836cb591-18b5-4f1a-9eee-b70dd8384440",
     "prev": "0ffc2667-1bd6-4356-9dd9-f9c4880d95ed",
     "regions": {
      "8e926907-d629-4830-bbff-504ec0e89d48": {
       "attrs": {
        "height": 0.8,
        "width": 0.8,
        "x": 0.1,
        "y": 0.1
       },
       "content": {
        "cell": "934aa51c-31a0-4aa6-a9ca-5af7fe96a948",
        "part": "whole"
       },
       "id": "8e926907-d629-4830-bbff-504ec0e89d48"
      }
     }
    },
    "83842b77-13d1-46b6-a345-9d7ec84c2311": {
     "id": "83842b77-13d1-46b6-a345-9d7ec84c2311",
     "prev": "5948bc85-48f2-4712-b491-3c5be4ed822f",
     "regions": {
      "3a30202a-e0d3-4b7b-9af6-e7ee84b4d6cf": {
       "attrs": {
        "height": 0.8,
        "width": 0.8,
        "x": 0.1,
        "y": 0.1
       },
       "content": {
        "cell": "c617c070-a14c-42ea-841a-38e5d0f0c861",
        "part": "whole"
       },
       "id": "3a30202a-e0d3-4b7b-9af6-e7ee84b4d6cf"
      }
     }
    },
    "afa6b71b-8eb7-49fc-95c8-959a9c2a7772": {
     "id": "afa6b71b-8eb7-49fc-95c8-959a9c2a7772",
     "prev": "e1dfdbba-a727-4d28-a8ab-b2931d0195be",
     "regions": {
      "eaff548e-0c43-42b7-b319-d230ea7635e8": {
       "attrs": {
        "height": 0.8,
        "width": 0.8,
        "x": 0.1,
        "y": 0.1
       },
       "content": {
        "cell": "8fbc3c99-e758-42b0-94e2-393d586619cf",
        "part": "whole"
       },
       "id": "eaff548e-0c43-42b7-b319-d230ea7635e8"
      }
     }
    },
    "de7caaa2-6d5b-473d-b7ad-7041f884ef74": {
     "id": "de7caaa2-6d5b-473d-b7ad-7041f884ef74",
     "prev": "afa6b71b-8eb7-49fc-95c8-959a9c2a7772",
     "regions": {
      "b7bf5815-7961-425b-9724-84d920647ecb": {
       "attrs": {
        "height": 0.8,
        "width": 0.8,
        "x": 0.1,
        "y": 0.1
       },
       "content": {
        "cell": "c134ea81-3daa-4a91-8b09-a938db828117",
        "part": "whole"
       },
       "id": "b7bf5815-7961-425b-9724-84d920647ecb"
      }
     }
    },
    "e1dfdbba-a727-4d28-a8ab-b2931d0195be": {
     "id": "e1dfdbba-a727-4d28-a8ab-b2931d0195be",
     "prev": "836cb591-18b5-4f1a-9eee-b70dd8384440",
     "regions": {
      "5d466f8b-9a29-44c6-9648-32165dcc7f5b": {
       "attrs": {
        "height": 0.8,
        "width": 0.8,
        "x": 0.1,
        "y": 0.1
       },
       "content": {
        "cell": "c53b0a02-ce4f-4588-8840-b4f831e79d54",
        "part": "whole"
       },
       "id": "5d466f8b-9a29-44c6-9648-32165dcc7f5b"
      }
     }
    }
   },
   "themes": {
    "default": "321811f1-5b60-4859-bca9-9314aa209211",
    "theme": {
     "321811f1-5b60-4859-bca9-9314aa209211": {
      "backgrounds": {
       "842aa99f-73b1-42af-bf81-13eafd2fe616": {
        "background-color": "19cc588f-0593-49c9-9f4b-e4d7cc113b1c",
        "id": "842aa99f-73b1-42af-bf81-13eafd2fe616"
       }
      },
      "id": "321811f1-5b60-4859-bca9-9314aa209211",
      "palette": {
       "19cc588f-0593-49c9-9f4b-e4d7cc113b1c": {
        "id": "19cc588f-0593-49c9-9f4b-e4d7cc113b1c",
        "rgb": [
         252,
         252,
         252
        ]
       },
       "31af15d2-7e15-44c5-ab5e-e04b16a89eff": {
        "id": "31af15d2-7e15-44c5-ab5e-e04b16a89eff",
        "rgb": [
         68,
         68,
         68
        ]
       },
       "50f92c45-a630-455b-aec3-788680ec7410": {
        "id": "50f92c45-a630-455b-aec3-788680ec7410",
        "rgb": [
         155,
         177,
         192
        ]
       },
       "c5cc3653-2ee1-402a-aba2-7caae1da4f6c": {
        "id": "c5cc3653-2ee1-402a-aba2-7caae1da4f6c",
        "rgb": [
         43,
         126,
         184
        ]
       },
       "efa7f048-9acb-414c-8b04-a26811511a21": {
        "id": "efa7f048-9acb-414c-8b04-a26811511a21",
        "rgb": [
         25.118061674008803,
         73.60176211453744,
         107.4819383259912
        ]
       }
      },
      "rules": {
       "blockquote": {
        "color": "50f92c45-a630-455b-aec3-788680ec7410"
       },
       "code": {
        "font-family": "Anonymous Pro"
       },
       "h1": {
        "color": "c5cc3653-2ee1-402a-aba2-7caae1da4f6c",
        "font-family": "Lato",
        "font-size": 8
       },
       "h2": {
        "color": "c5cc3653-2ee1-402a-aba2-7caae1da4f6c",
        "font-family": "Lato",
        "font-size": 6
       },
       "h3": {
        "color": "50f92c45-a630-455b-aec3-788680ec7410",
        "font-family": "Lato",
        "font-size": 5.5
       },
       "h4": {
        "color": "c5cc3653-2ee1-402a-aba2-7caae1da4f6c",
        "font-family": "Lato",
        "font-size": 5
       },
       "h5": {
        "font-family": "Lato"
       },
       "h6": {
        "font-family": "Lato"
       },
       "h7": {
        "font-family": "Lato",
        "font-size": 4.5
       },
       "pre": {
        "font-family": "Anonymous Pro",
        "font-size": 4
       }
      },
      "text-base": {
       "font-family": "Merriweather",
       "font-size": 4
      }
     }
    }
   }
  }
 },
 "nbformat": 4,
 "nbformat_minor": 0
}
