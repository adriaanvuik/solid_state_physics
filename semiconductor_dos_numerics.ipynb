{
 "cells": [
  {
   "cell_type": "code",
   "execution_count": null,
   "metadata": {
    "collapsed": false,
    "deletable": true,
    "editable": true,
    "slideshow": {
     "slide_type": "skip"
    }
   },
   "outputs": [],
   "source": [
    "import numpy as np\n",
    "from scipy import linalg\n",
    "import plotly.plotly as py\n",
    "import plotly.graph_objs as go\n",
    "from plotly import tools\n",
    "from plotly.offline import init_notebook_mode, iplot\n",
    "from ipywidgets import interactive\n",
    "\n",
    "init_notebook_mode()\n",
    "\n",
    "def fermi_gas_1D(n=1):\n",
    "    n_down = (n + 1) // 2\n",
    "    n_up = n // 2\n",
    "    momenta = np.linspace(-10, 10, 101)\n",
    "    energies = momenta**2\n",
    "    data = [go.Scatter(x=momenta, y=energies, hoverinfo='none', line={'color':'black'})]\n",
    "    discrete_momenta = np.arange(-19, 20)\n",
    "    discrete_energies = discrete_momenta**2\n",
    "    sort_order = np.argsort(discrete_energies)\n",
    "    discrete_momenta = discrete_momenta[sort_order]\n",
    "    discrete_energies = discrete_energies[sort_order]\n",
    "    data.append(go.Scatter(x=discrete_momenta[:n_down], y=discrete_energies[:n_down] - 2,\n",
    "                           marker=go.Marker(color='red', symbol='circle'), line={'width':0}))\n",
    "    data.append(go.Scatter(x=discrete_momenta[:n_up], y=discrete_energies[:n_up] + 3,\n",
    "                           marker=go.Marker(color='blue', symbol='circle'), line={'width':0}))\n",
    "    layout = go.Layout(\n",
    "            showlegend=False,\n",
    "            autosize=False,\n",
    "            width=600,\n",
    "            height=300,\n",
    "            xaxis={'title':'k'},\n",
    "            yaxis={'title':'E'})\n",
    "    fig = go.Figure(data=data, layout=layout)\n",
    "    iplot(fig, show_link=False)\n",
    "\n",
    "fermi_gas_1D = interactive(fermi_gas_1D, n=(1, 39))\n",
    "\n",
    "def plot_dos(dim=1, mu=1., T=0.001):\n",
    "    E = np.linspace(0, 2, 300)\n",
    "    n = E**((dim - 2) / 2) / (np.exp((E - mu) / T) + 1)\n",
    "    data = [go.Scatter(x=E, y=n, hoverinfo='none', line={'color':'black'})]\n",
    "    layout = go.Layout(\n",
    "            showlegend=False,\n",
    "            autosize=False,\n",
    "            width=600,\n",
    "            height=300,\n",
    "            xaxis={'title':'E'},\n",
    "            yaxis={'title':'n'})\n",
    "    iplot(go.Figure(data=data, layout=layout), show_link=False)\n",
    "\n",
    "dos = interactive((lambda dim=1., mu=1.: plot_dos(dim, mu)), dim=(1, 3), mu=(0., 2.))\n",
    "\n",
    "dos_finite = interactive(plot_dos, dim=(1, 3), mu=(0., 2.), T=(0.001, .1, 0.01))"
   ]
  },
  {
   "cell_type": "markdown",
   "metadata": {
    "deletable": true,
    "editable": true,
    "slideshow": {
     "slide_type": "slide"
    }
   },
   "source": [
    "# Free electron model\n",
    "By Anton Akhmerov *(also it's my very first lecture ever today!)*\n",
    "\n",
    "This lecture:\n",
    "* Fermi surface\n",
    "* Fermi energy\n",
    "* Fermi velocity\n",
    "* Electron heat capacitance\n",
    "\n",
    "Next lecture:  \n",
    "Scattering and magnetic field"
   ]
  },
  {
   "cell_type": "markdown",
   "metadata": {
    "deletable": true,
    "editable": true,
    "slideshow": {
     "slide_type": "slide"
    }
   },
   "source": [
    "# Electrons\n",
    "\n",
    "Q: *In which ways are electrons different from phonons?*"
   ]
  },
  {
   "cell_type": "markdown",
   "metadata": {
    "deletable": true,
    "editable": true,
    "slideshow": {
     "slide_type": "fragment"
    }
   },
   "source": [
    "* They have electric charge.\n",
    "* You cannot create new electrons, while you can create phonons  \n",
    "  (So they obey different statistics, fermions, not bosons)\n",
    "* They have a mass:  \n",
    "  $E = p^2/2m$ for electrons instead of $E = v|p|$ for (acoustic) phonons\n",
    "  \n",
    "*NB: Electrons are my favorite particle*"
   ]
  },
  {
   "cell_type": "markdown",
   "metadata": {
    "deletable": true,
    "editable": true,
    "slideshow": {
     "slide_type": "subslide"
    }
   },
   "source": [
    "Q: *What is similar between electrons and phonons?*\n",
    "\n",
    "* Both interact with lattice\n",
    "* Both can store extra energy when the system is heated"
   ]
  },
  {
   "cell_type": "markdown",
   "metadata": {
    "deletable": true,
    "editable": true,
    "slideshow": {
     "slide_type": "fragment"
    }
   },
   "source": [
    "Focus on differences first, forget the lattice exists (imagine the nuclei form an average potential for electrons)."
   ]
  },
  {
   "cell_type": "markdown",
   "metadata": {
    "deletable": true,
    "editable": true,
    "slideshow": {
     "slide_type": "slide"
    }
   },
   "source": [
    "# Density of states\n",
    "\n",
    "Plan: count states in a big box"
   ]
  },
  {
   "cell_type": "markdown",
   "metadata": {
    "deletable": true,
    "editable": true,
    "slideshow": {
     "slide_type": "fragment"
    }
   },
   "source": [
    "Electrons obey Schrödinger equation:\n",
    "\n",
    "$$ H = -\\frac{\\hbar^2}{2m}\\left(\\frac{\\partial^2}{\\partial x^2} + \\frac{\\partial^2}{\\partial y^2} + \\frac{\\partial^2}{\\partial z^2}\\right) $$\n",
    "\n",
    "Take $L\\times L \\times L$ box with periodic boundary conditions: $\\psi(L, y, z) = \\psi(0, y, z)$, same for $y$ and $z$."
   ]
  },
  {
   "cell_type": "markdown",
   "metadata": {
    "deletable": true,
    "editable": true,
    "slideshow": {
     "slide_type": "fragment"
    }
   },
   "source": [
    "Wave vectors are now quantized: $k_{x,y,z} = 2\\pi n_{x, y, z}/ L$\n",
    "\n",
    "...and energies as well: $E(n_x, n_y, n_z) = \\frac{(2\\pi\\hbar)^2}{mL^2}(n_x^2 + n_y^2 + n_z^2)$"
   ]
  },
  {
   "cell_type": "markdown",
   "metadata": {
    "deletable": true,
    "editable": true,
    "slideshow": {
     "slide_type": "subslide"
    }
   },
   "source": [
    "# Lowest energy state of many electrons\n",
    "\n",
    "Let's start with a 1D illustration:"
   ]
  },
  {
   "cell_type": "code",
   "execution_count": null,
   "metadata": {
    "collapsed": false,
    "deletable": true,
    "editable": true
   },
   "outputs": [],
   "source": [
    "fermi_gas_1D"
   ]
  },
  {
   "cell_type": "markdown",
   "metadata": {
    "deletable": true,
    "editable": true,
    "slideshow": {
     "slide_type": "subslide"
    }
   },
   "source": [
    "## Fermi-everything\n",
    "\n",
    "* The lowest energy state is called **Fermi sea**, and the top of Fermi sea is **Fermi surface**\n",
    "* All the states below **Fermi energy** ($E_\\text{F}$) are filled, those above are empty\n",
    "* This means $|k| < k_\\text{F}$, the **Fermi momentum**"
   ]
  },
  {
   "cell_type": "markdown",
   "metadata": {
    "deletable": true,
    "editable": true,
    "slideshow": {
     "slide_type": "subslide"
    }
   },
   "source": [
    "## Counting the states\n",
    "\n",
    "Number of states with $|k| < k$:\n",
    "* 1D: $N = \\frac{2 \\times 2 k}{2\\pi/L} = \\frac{4 k V}{\\pi}$\n",
    "* 2D: $N = \\frac{2 \\pi k^2}{(2\\pi/L)^2} = \\frac{k^2 V}{4\\pi}$\n",
    "* 3D: $N = \\frac{2 (4/3) \\pi k^3 }{ (2\\pi/L)^3} = \\frac{k^3 V}{3\\pi^2}$"
   ]
  },
  {
   "cell_type": "markdown",
   "metadata": {
    "deletable": true,
    "editable": true,
    "slideshow": {
     "slide_type": "subslide"
    }
   },
   "source": [
    "## Density of states\n",
    "\n",
    "We need to get:\n",
    "\n",
    "$$g(E) \\equiv \\frac{dN}{dE} = \\frac{dN}{dk}\\frac{dk}{dE}.$$\n",
    "\n",
    "From Schrödinger equation:\n",
    "\n",
    "$$k = \\hbar^{-1}\\sqrt{2mE};\\quad \\frac{dk}{dE}=\\hbar^{-1}\\sqrt{m/2E}$$"
   ]
  },
  {
   "cell_type": "markdown",
   "metadata": {
    "deletable": true,
    "editable": true,
    "slideshow": {
     "slide_type": "fragment"
    }
   },
   "source": [
    "So:\n",
    "* 1D: $g(E) = \\frac{4 V}{\\pi} \\frac{dk}{dE} \\sim E^{-1/2}$\n",
    "* 2D: $g(E) = \\frac{k V}{2\\pi} \\frac{dk}{dE} \\sim \\text{const}$\n",
    "* 3D: $g(E) = \\frac{k^2 V}{\\pi^2} \\frac{dk}{dE} \\sim E^{1/2}$"
   ]
  },
  {
   "cell_type": "markdown",
   "metadata": {
    "deletable": true,
    "editable": true,
    "slideshow": {
     "slide_type": "subslide"
    }
   },
   "source": [
    "## Number of states with each energy"
   ]
  },
  {
   "cell_type": "code",
   "execution_count": null,
   "metadata": {
    "collapsed": false,
    "deletable": true,
    "editable": true,
    "slideshow": {
     "slide_type": "-"
    }
   },
   "outputs": [],
   "source": [
    "dos"
   ]
  },
  {
   "cell_type": "markdown",
   "metadata": {
    "deletable": true,
    "editable": true,
    "slideshow": {
     "slide_type": "slide"
    }
   },
   "source": [
    "# Effects of finite temperature\n",
    "\n",
    "Fermi-Dirac distribution (check wiki: [WP:Fermi Distribution](https://en.wikipedia.org/wiki/Fermi%E2%80%93Dirac_statistics#Derivations_of_the_Fermi.E2.80.93Dirac_distribution)):\n",
    "\n",
    "$ f(E, T) = \\frac{1}{e^{(E - \\mu)/k_\\text{B}T} + 1} $\n",
    "\n",
    "At finite temperature $n(E) = g(E)\\times f(E, T)$"
   ]
  },
  {
   "cell_type": "code",
   "execution_count": null,
   "metadata": {
    "collapsed": false,
    "deletable": true,
    "editable": true
   },
   "outputs": [],
   "source": [
    "dos_finite"
   ]
  },
  {
   "cell_type": "markdown",
   "metadata": {
    "deletable": true,
    "editable": true,
    "slideshow": {
     "slide_type": "slide"
    }
   },
   "source": [
    "# Heat capacitance:\n",
    "\n",
    "$n \\approx (1/2) g(E_F) \\times k_B T$ electrons have their energy increased by $\\delta E \\sim k_B T$\n",
    "\n",
    "$$E(T) - E(0) \\approx g(E_F) (k_b T)^2$$\n",
    "\n",
    "So:\n",
    "$$ C_{v, e} \\approx g(E_F) k_b^2 T = \\ldots = \\frac{3}{2} N k_B \\frac{T}{T_F}$$\n",
    "\n",
    "($T_F = E_F/ k_B$ is **Fermi temperature**)\n",
    "\n",
    "At room temperature $C_{v, f} = 3Nk_B \\gg C_{v, e}$.\n",
    "\n",
    "At $T \\to 0$, $C_{v, f} \\sim T^3$, while $C_{v, f} \\sim T$."
   ]
  }
 ],
 "metadata": {
  "celltoolbar": "Slideshow",
  "kernelspec": {
   "display_name": "Python 3",
   "language": "python",
   "name": "python3"
  },
  "language_info": {
   "codemirror_mode": {
    "name": "ipython",
    "version": 3
   },
   "file_extension": ".py",
   "mimetype": "text/x-python",
   "name": "python",
   "nbconvert_exporter": "python",
   "pygments_lexer": "ipython3",
   "version": "3.5.2"
  },
  "widgets": {
   "state": {
    "013d218d4c8e40acba4cb5a4e48b6bc9": {
     "views": [
      {
       "cell_index": 10
      }
     ]
    }
   },
   "version": "1.2.0"
  }
 },
 "nbformat": 4,
 "nbformat_minor": 0
}
