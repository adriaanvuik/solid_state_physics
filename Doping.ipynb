{
 "cells": [
  {
   "cell_type": "markdown",
   "metadata": {
    "slideshow": {
     "slide_type": "slide"
    }
   },
   "source": [
    "# Doping in semiconductors\n",
    "\n",
    "Last lecture: \n",
    "* Semiconductors have conduction and valence band where the particles are electrons and holes.\n",
    "* Electrons and holes have Hall conducance $\\sigma_H = B e(n_e - n_h)$\n",
    "\n",
    "This lecture:\n",
    "* Doping (=adding atoms of different type)\n",
    "* Temperature dependence of carrier density"
   ]
  },
  {
   "cell_type": "markdown",
   "metadata": {
    "slideshow": {
     "slide_type": "slide"
    }
   },
   "source": [
    "# Density of states\n",
    "\n",
    "![](figures/intrinsic_DOS.svg)\n",
    "\n",
    "Electrons\n",
    "$$ E = E_G + {p^2}/{2m_e}$$\n",
    "$$ g(E) = V(2m_e)^{3/2}\\sqrt{E-E_G}/2\\pi^2$$\n",
    "Holes\n",
    "$$ E = - {p^2}/{2m_h}$$\n",
    "$$ g(E) = V(2m_h)^{3/2}\\sqrt{E}/2\\pi^2$$"
   ]
  },
  {
   "cell_type": "markdown",
   "metadata": {
    "slideshow": {
     "slide_type": "slide"
    }
   },
   "source": [
    "# Adding an impurity to semiconductor\n",
    "\n",
    "* Typical semiconductors are group IV (Si, Ge, GaAs).\n",
    "* Unfilled shell of group V atom (donor) has 1 extra electron and its nucleus 1 extra proton\n",
    "* Group III atom (acceptor) lacks 1 electron and 1 nucleus charge\n",
    "\n",
    "Extra electron (or extra hole) is attracted to the extra charge of the nucleus.\n",
    "\n",
    "In H the energy levels are:\n",
    "$$ E_n = - \\frac{me^4}{8\\pi^2\\hbar^3\\varepsilon_0n^2} = -R_E /n^2= -\\frac{13.6\\text{eV}}{n^2}$$\n",
    "\n",
    "Bohr radius (size of the ground state wave function): $4 \\pi \\varepsilon_0 \\hbar^2/m_{\\mathrm{e}} e^2$\n",
    "\n",
    "In a semiconductor $m\\to m_{\\text{eff}}$, $\\epsilon_0 \\to \\epsilon\\epsilon_0$."
   ]
  },
  {
   "cell_type": "markdown",
   "metadata": {
    "slideshow": {
     "slide_type": "slide"
    }
   },
   "source": [
    "# Adding an impurity to semiconductor II\n",
    "\n",
    "An impurity creates a very weakly bound state:\n",
    "$$E = -\\frac{m_e}{m\\varepsilon^2} R_E = -0.01 \\text{eV (in Ge)}$$\n",
    "$r = 4$ nm (vs $r = 0.5$ Å in H).\n",
    "\n",
    "Binding energy smaller than room temperature (0.026 eV)."
   ]
  },
  {
   "cell_type": "markdown",
   "metadata": {
    "slideshow": {
     "slide_type": "slide"
    }
   },
   "source": [
    "# Density of states\n",
    "\n",
    "![](figures/doping.svg)\n",
    "\n",
    "All donor/acceptor states at the same energy:\n",
    "$$g_A = N_A \\delta(E_A),\\quad g_D = N_D \\delta(E_G - E_D)$$"
   ]
  },
  {
   "cell_type": "markdown",
   "metadata": {
    "slideshow": {
     "slide_type": "slide"
    }
   },
   "source": [
    "# Finite temperature\n",
    "\n",
    "![](figures/doping.svg)\n",
    "\n",
    "$$f(E) = \\frac{1}{e^{(E-E_F)/k_BT} +1}$$\n",
    "\n",
    "Intrinsic semiconductor:\n",
    "$$E_F, E_G - E_F \\gg k_BT$$\n",
    "\n",
    "For electrons:\n",
    "$$f(E) \\approx e^{-(E-E_F)/k_BT}$$\n",
    "holes:\n",
    "$$f(E) \\approx 1- e^{(E-E_F)/k_BT}$$"
   ]
  },
  {
   "cell_type": "markdown",
   "metadata": {
    "slideshow": {
     "slide_type": "slide"
    }
   },
   "source": [
    "# Number of carriers\n",
    "\n",
    "Electron concentration:\n",
    "$$ n_e = V^{-1} \\int_0^\\infty f(\\varepsilon)g_e(\\varepsilon) d \\varepsilon$$\n",
    "\n",
    "Result:\n",
    "$$ n_e = N_{\\rm C}(T) \\exp((E_{\\rm F} - E_{\\rm G})/kT), \\quad n_h = N_{\\rm V}(T) \\exp(- E_{\\rm F}/kT)$$\n",
    "$$ N_{\\rm C}(T) = 2(2\\pi m_e kT/h^2)^{3/2} \\quad N_{\\rm V}(T) = 2(2\\pi m_h kT/h^2)^{3/2} $$\n",
    "\n",
    "Charge conservation:\n",
    "$$n_e - n_h + n_D - n_A = 0$$"
   ]
  },
  {
   "cell_type": "markdown",
   "metadata": {
    "slideshow": {
     "slide_type": "slide"
    }
   },
   "source": [
    "# Summary\n",
    "\n",
    "![](figures/doping.svg)\n",
    "\n",
    "Doping shifts the Fermi level and creates charge carriers of a dominant type."
   ]
  }
 ],
 "metadata": {
  "celltoolbar": "Slideshow",
  "kernelspec": {
   "display_name": "Python 3",
   "language": "python",
   "name": "python3"
  },
  "language_info": {
   "codemirror_mode": {
    "name": "ipython",
    "version": 3
   },
   "file_extension": ".py",
   "mimetype": "text/x-python",
   "name": "python",
   "nbconvert_exporter": "python",
   "pygments_lexer": "ipython3",
   "version": "3.4.3+"
  }
 },
 "nbformat": 4,
 "nbformat_minor": 0
}
